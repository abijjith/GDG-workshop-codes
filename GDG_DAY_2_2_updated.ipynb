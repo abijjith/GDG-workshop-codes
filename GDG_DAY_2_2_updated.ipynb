{
  "cells": [
    {
      "cell_type": "markdown",
      "metadata": {
        "id": "n-lRoTpqJTeM"
      },
      "source": [
        "### Install Required Packages"
      ]
    },
    {
      "cell_type": "code",
      "execution_count": null,
      "metadata": {
        "colab": {
          "base_uri": "https://localhost:8080/"
        },
        "id": "wgALz5M7I9dQ",
        "outputId": "547c8e3f-7bc9-4e6f-bada-9888d859a671"
      },
      "outputs": [
        {
          "output_type": "stream",
          "name": "stdout",
          "text": [
            "\u001b[2K     \u001b[90m━━━━━━━━━━━━━━━━━━━━━━━━━━━━━━━━━━━━━━━━\u001b[0m \u001b[32m50.4/50.4 kB\u001b[0m \u001b[31m1.0 MB/s\u001b[0m eta \u001b[36m0:00:00\u001b[0m\n",
            "\u001b[2K   \u001b[90m━━━━━━━━━━━━━━━━━━━━━━━━━━━━━━━━━━━━━━━━\u001b[0m \u001b[32m399.9/399.9 kB\u001b[0m \u001b[31m10.3 MB/s\u001b[0m eta \u001b[36m0:00:00\u001b[0m\n",
            "\u001b[2K   \u001b[90m━━━━━━━━━━━━━━━━━━━━━━━━━━━━━━━━━━━━━━━━\u001b[0m \u001b[32m290.2/290.2 kB\u001b[0m \u001b[31m16.2 MB/s\u001b[0m eta \u001b[36m0:00:00\u001b[0m\n",
            "\u001b[2K   \u001b[90m━━━━━━━━━━━━━━━━━━━━━━━━━━━━━━━━━━━━━━━━\u001b[0m \u001b[32m76.4/76.4 kB\u001b[0m \u001b[31m4.4 MB/s\u001b[0m eta \u001b[36m0:00:00\u001b[0m\n",
            "\u001b[2K   \u001b[90m━━━━━━━━━━━━━━━━━━━━━━━━━━━━━━━━━━━━━━━━\u001b[0m \u001b[32m77.9/77.9 kB\u001b[0m \u001b[31m4.2 MB/s\u001b[0m eta \u001b[36m0:00:00\u001b[0m\n",
            "\u001b[2K   \u001b[90m━━━━━━━━━━━━━━━━━━━━━━━━━━━━━━━━━━━━━━━━\u001b[0m \u001b[32m141.9/141.9 kB\u001b[0m \u001b[31m6.9 MB/s\u001b[0m eta \u001b[36m0:00:00\u001b[0m\n",
            "\u001b[2K   \u001b[90m━━━━━━━━━━━━━━━━━━━━━━━━━━━━━━━━━━━━━━━━\u001b[0m \u001b[32m58.3/58.3 kB\u001b[0m \u001b[31m2.3 MB/s\u001b[0m eta \u001b[36m0:00:00\u001b[0m\n",
            "\u001b[?25h"
          ]
        }
      ],
      "source": [
        "! pip install -q --upgrade google-generativeai langchain-google-genai python-dotenv"
      ]
    },
    {
      "cell_type": "code",
      "execution_count": null,
      "metadata": {
        "id": "CHCjBuPHJ-JU"
      },
      "outputs": [],
      "source": [
        "import google.generativeai as genai\n"
      ]
    },
    {
      "cell_type": "markdown",
      "metadata": {
        "id": "3NOFOt74X2Gd"
      },
      "source": [
        "### Text Generation"
      ]
    },
    {
      "cell_type": "code",
      "execution_count": null,
      "metadata": {
        "colab": {
          "base_uri": "https://localhost:8080/"
        },
        "id": "KG_3KsGRKDYU",
        "outputId": "72b0c65a-68e6-4f7a-888d-27dfff59f4cd"
      },
      "outputs": [
        {
          "output_type": "execute_result",
          "data": {
            "text/plain": [
              "genai.GenerativeModel(\n",
              "    model_name='models/gemini-pro',\n",
              "    generation_config={},\n",
              "    safety_settings={},\n",
              "    tools=None,\n",
              "    system_instruction=None,\n",
              "    cached_content=None\n",
              ")"
            ]
          },
          "metadata": {},
          "execution_count": 7
        }
      ],
      "source": [
        "model = genai.GenerativeModel(model_name = \"gemini-pro\")\n",
        "model"
      ]
    },
    {
      "cell_type": "markdown",
      "metadata": {
        "id": "-TbsjM7hK6PR"
      },
      "source": [
        "### Use LangChain to Access Gemini API"
      ]
    },
    {
      "cell_type": "code",
      "execution_count": null,
      "metadata": {
        "id": "WqdODsdLK8li"
      },
      "outputs": [],
      "source": [
        "from langchain_google_genai import ChatGoogleGenerativeAI\n"
      ]
    },
    {
      "cell_type": "code",
      "execution_count": null,
      "metadata": {
        "id": "vknP_oOWK-k7"
      },
      "outputs": [],
      "source": [
        "llm = ChatGoogleGenerativeAI(model=\"gemini-pro\", google_api_key=\"\")"
      ]
    },
    {
      "cell_type": "markdown",
      "metadata": {
        "id": "W5EiNEQ63PYu"
      },
      "source": [
        "# Chat"
      ]
    },
    {
      "cell_type": "code",
      "execution_count": null,
      "metadata": {
        "colab": {
          "base_uri": "https://localhost:8080/"
        },
        "id": "MRCFsCD-3OsM",
        "outputId": "ce3fa172-093f-4c4c-a530-02f2e29e1377"
      },
      "outputs": [
        {
          "output_type": "execute_result",
          "data": {
            "text/plain": [
              "ChatSession(\n",
              "    model=genai.GenerativeModel(\n",
              "        model_name='models/gemini-1.5-flash',\n",
              "        generation_config={},\n",
              "        safety_settings={},\n",
              "        tools=None,\n",
              "        system_instruction=None,\n",
              "        cached_content=None\n",
              "    ),\n",
              "    history=[]\n",
              ")"
            ]
          },
          "metadata": {},
          "execution_count": 18
        }
      ],
      "source": [
        "model = genai.GenerativeModel(\"gemini-1.5-flash\")\n",
        "chat = model.start_chat(history=[])\n",
        "chat"
      ]
    },
    {
      "cell_type": "code",
      "source": [
        "genai.configure(api_key='')"
      ],
      "metadata": {
        "id": "jL3NlEKy5lK6"
      },
      "execution_count": null,
      "outputs": []
    },
    {
      "cell_type": "code",
      "execution_count": null,
      "metadata": {
        "colab": {
          "base_uri": "https://localhost:8080/",
          "height": 72
        },
        "id": "pJMTMS3x3UJs",
        "outputId": "73d1d838-584e-472b-bac1-6847d183d193"
      },
      "outputs": [
        {
          "output_type": "stream",
          "name": "stdout",
          "text": [
            "Imagine a computer is like a super-smart robot that can understand your instructions and do all sorts of things!  It has a special brain inside called a processor that can think really fast and follow your commands. When you tell it to do something, like play a game or show you a picture, it uses electricity to quickly turn on and off tiny switches inside, just like turning on and off a light. These switches make the computer do what you want, and then it shows you the results on the screen. It's like magic, but it's really just electricity following your instructions! \n",
            "\n"
          ]
        }
      ],
      "source": [
        "response = chat.send_message(\n",
        "    \"In one paragraph, explain how a computer works to a young child.\"\n",
        ")\n",
        "print(response.text)"
      ]
    },
    {
      "cell_type": "code",
      "source": [
        "print(chat.history)"
      ],
      "metadata": {
        "colab": {
          "base_uri": "https://localhost:8080/"
        },
        "id": "ux-kZpwL7Zkq",
        "outputId": "24260ea7-6166-4b23-c4a2-b80b7ab7e329"
      },
      "execution_count": null,
      "outputs": [
        {
          "output_type": "stream",
          "name": "stdout",
          "text": [
            "[parts {\n",
            "  text: \"In one sentence, explain how a computer works to a young child.\"\n",
            "}\n",
            "role: \"user\"\n",
            ", parts {\n",
            "  text: \"A computer is like a brain that uses electricity to follow instructions and show you pictures and sounds. \\n\"\n",
            "}\n",
            "role: \"model\"\n",
            ", parts {\n",
            "  text: \"In one paragraph, explain how a computer works to a young child.\"\n",
            "}\n",
            "role: \"user\"\n",
            ", parts {\n",
            "  text: \"Imagine a computer is like a really smart toy that can do lots of things! Inside, it has tiny parts called circuits that are like little paths for electricity. When you tell the computer what to do, like play a game or watch a video, you\\'re giving it instructions. The electricity travels through the circuits, following those instructions. It\\'s like a magic trick! The computer then shows you the results on the screen, maybe pictures, words, or sounds. It\\'s all thanks to the electricity flowing through the circuits and following your instructions! \\n\"\n",
            "}\n",
            "role: \"model\"\n",
            ", parts {\n",
            "  text: \"In one paragraph, explain how a computer works to a young child.\"\n",
            "}\n",
            "role: \"user\"\n",
            ", parts {\n",
            "  text: \"Imagine a computer is like a big, clever box full of tiny lights. When you press a key on the keyboard or click the mouse, it sends a signal to the lights inside. These lights turn on and off in different patterns, like a secret code, and that code tells the computer what to do. If you want to watch a video, the code tells the computer to play a movie, and then the pictures and sounds come out on the screen. It\\'s like magic, but it\\'s really just electricity flowing through the lights and making them do tricks! \\n\"\n",
            "}\n",
            "role: \"model\"\n",
            ", parts {\n",
            "  text: \"In one paragraph, explain how a computer works to a young child.\"\n",
            "}\n",
            "role: \"user\"\n",
            ", parts {\n",
            "  text: \"Think of a computer as a super-smart friend who can understand your instructions and do amazing things! Inside, it has a special language that it speaks, like a secret code. When you tell it what to do, like play a game or watch a video, it translates your words into that code and then follows the instructions. It\\'s like a really fast puzzle solver, using electricity to move things around and show you results on the screen! \\n\"\n",
            "}\n",
            "role: \"model\"\n",
            ", parts {\n",
            "  text: \"In one paragraph, explain how a computer works to a young child.\"\n",
            "}\n",
            "role: \"user\"\n",
            ", parts {\n",
            "  text: \"Imagine a computer is like a super-smart robot that can understand your instructions and do all sorts of things!  It has a special brain inside called a processor that can think really fast and follow your commands. When you tell it to do something, like play a game or show you a picture, it uses electricity to quickly turn on and off tiny switches inside, just like turning on and off a light. These switches make the computer do what you want, and then it shows you the results on the screen. It\\'s like magic, but it\\'s really just electricity following your instructions! \\n\"\n",
            "}\n",
            "role: \"model\"\n",
            "]\n"
          ]
        }
      ]
    },
    {
      "cell_type": "code",
      "source": [
        "chat.send_message(\"How animal gives birth?\")"
      ],
      "metadata": {
        "colab": {
          "base_uri": "https://localhost:8080/",
          "height": 902
        },
        "id": "0wvwFzBu7vsh",
        "outputId": "3425a3f3-72d6-434a-ec98-8e0a857f823b"
      },
      "execution_count": null,
      "outputs": [
        {
          "output_type": "execute_result",
          "data": {
            "text/plain": [
              "response:\n",
              "GenerateContentResponse(\n",
              "    done=True,\n",
              "    iterator=None,\n",
              "    result=protos.GenerateContentResponse({\n",
              "      \"candidates\": [\n",
              "        {\n",
              "          \"content\": {\n",
              "            \"parts\": [\n",
              "              {\n",
              "                \"text\": \"Animals give birth in different ways depending on the species. \\n\\n**Mammals** give birth to live young. This means the baby develops inside the mother's body until it's ready to be born.  Here's a simple explanation:\\n\\n* **The mother's body creates a special place called the uterus, where the baby grows.** It's like a cozy house for the baby. \\n* **The baby gets food and oxygen through a cord connected to the mother.** It's like a special tube that provides everything the baby needs.\\n* **When the baby is ready, it comes out of the mother's body through a special opening.** This is called giving birth.\\n\\n**Other animals, like birds, reptiles, and amphibians**, lay eggs. This means the baby develops inside an egg, and the mother lays it on land or in water. The baby then hatches from the egg when it's ready.\\n\\n**Some animals**, like insects, don't give birth or lay eggs. Instead, they go through a process called metamorphosis, where they change from one form to another. \\n\\nIt's amazing how different animals have different ways of bringing new life into the world! \\n\"\n",
              "              }\n",
              "            ],\n",
              "            \"role\": \"model\"\n",
              "          },\n",
              "          \"finish_reason\": \"STOP\",\n",
              "          \"index\": 0,\n",
              "          \"safety_ratings\": [\n",
              "            {\n",
              "              \"category\": \"HARM_CATEGORY_SEXUALLY_EXPLICIT\",\n",
              "              \"probability\": \"NEGLIGIBLE\"\n",
              "            },\n",
              "            {\n",
              "              \"category\": \"HARM_CATEGORY_HATE_SPEECH\",\n",
              "              \"probability\": \"NEGLIGIBLE\"\n",
              "            },\n",
              "            {\n",
              "              \"category\": \"HARM_CATEGORY_HARASSMENT\",\n",
              "              \"probability\": \"NEGLIGIBLE\"\n",
              "            },\n",
              "            {\n",
              "              \"category\": \"HARM_CATEGORY_DANGEROUS_CONTENT\",\n",
              "              \"probability\": \"NEGLIGIBLE\"\n",
              "            }\n",
              "          ]\n",
              "        }\n",
              "      ],\n",
              "      \"usage_metadata\": {\n",
              "        \"prompt_token_count\": 552,\n",
              "        \"candidates_token_count\": 249,\n",
              "        \"total_token_count\": 801\n",
              "      }\n",
              "    }),\n",
              ")"
            ]
          },
          "metadata": {},
          "execution_count": 27
        }
      ]
    },
    {
      "cell_type": "code",
      "source": [
        "chat.history"
      ],
      "metadata": {
        "colab": {
          "base_uri": "https://localhost:8080/"
        },
        "id": "CRuairKV75DL",
        "outputId": "38bfec8a-e76b-4039-db48-ce7926ec4ad4"
      },
      "execution_count": null,
      "outputs": [
        {
          "output_type": "execute_result",
          "data": {
            "text/plain": [
              "[parts {\n",
              "   text: \"In one sentence, explain how a computer works to a young child.\"\n",
              " }\n",
              " role: \"user\",\n",
              " parts {\n",
              "   text: \"A computer is like a brain that uses electricity to follow instructions and show you pictures and sounds. \\n\"\n",
              " }\n",
              " role: \"model\",\n",
              " parts {\n",
              "   text: \"In one paragraph, explain how a computer works to a young child.\"\n",
              " }\n",
              " role: \"user\",\n",
              " parts {\n",
              "   text: \"Imagine a computer is like a really smart toy that can do lots of things! Inside, it has tiny parts called circuits that are like little paths for electricity. When you tell the computer what to do, like play a game or watch a video, you\\'re giving it instructions. The electricity travels through the circuits, following those instructions. It\\'s like a magic trick! The computer then shows you the results on the screen, maybe pictures, words, or sounds. It\\'s all thanks to the electricity flowing through the circuits and following your instructions! \\n\"\n",
              " }\n",
              " role: \"model\",\n",
              " parts {\n",
              "   text: \"In one paragraph, explain how a computer works to a young child.\"\n",
              " }\n",
              " role: \"user\",\n",
              " parts {\n",
              "   text: \"Imagine a computer is like a big, clever box full of tiny lights. When you press a key on the keyboard or click the mouse, it sends a signal to the lights inside. These lights turn on and off in different patterns, like a secret code, and that code tells the computer what to do. If you want to watch a video, the code tells the computer to play a movie, and then the pictures and sounds come out on the screen. It\\'s like magic, but it\\'s really just electricity flowing through the lights and making them do tricks! \\n\"\n",
              " }\n",
              " role: \"model\",\n",
              " parts {\n",
              "   text: \"In one paragraph, explain how a computer works to a young child.\"\n",
              " }\n",
              " role: \"user\",\n",
              " parts {\n",
              "   text: \"Think of a computer as a super-smart friend who can understand your instructions and do amazing things! Inside, it has a special language that it speaks, like a secret code. When you tell it what to do, like play a game or watch a video, it translates your words into that code and then follows the instructions. It\\'s like a really fast puzzle solver, using electricity to move things around and show you results on the screen! \\n\"\n",
              " }\n",
              " role: \"model\",\n",
              " parts {\n",
              "   text: \"In one paragraph, explain how a computer works to a young child.\"\n",
              " }\n",
              " role: \"user\",\n",
              " parts {\n",
              "   text: \"Imagine a computer is like a super-smart robot that can understand your instructions and do all sorts of things!  It has a special brain inside called a processor that can think really fast and follow your commands. When you tell it to do something, like play a game or show you a picture, it uses electricity to quickly turn on and off tiny switches inside, just like turning on and off a light. These switches make the computer do what you want, and then it shows you the results on the screen. It\\'s like magic, but it\\'s really just electricity following your instructions! \\n\"\n",
              " }\n",
              " role: \"model\",\n",
              " parts {\n",
              "   text: \"How animal gives birth?\"\n",
              " }\n",
              " role: \"user\",\n",
              " parts {\n",
              "   text: \"Animals give birth in different ways depending on the species. \\n\\n**Mammals** give birth to live young. This means the baby develops inside the mother\\'s body until it\\'s ready to be born.  Here\\'s a simple explanation:\\n\\n* **The mother\\'s body creates a special place called the uterus, where the baby grows.** It\\'s like a cozy house for the baby. \\n* **The baby gets food and oxygen through a cord connected to the mother.** It\\'s like a special tube that provides everything the baby needs.\\n* **When the baby is ready, it comes out of the mother\\'s body through a special opening.** This is called giving birth.\\n\\n**Other animals, like birds, reptiles, and amphibians**, lay eggs. This means the baby develops inside an egg, and the mother lays it on land or in water. The baby then hatches from the egg when it\\'s ready.\\n\\n**Some animals**, like insects, don\\'t give birth or lay eggs. Instead, they go through a process called metamorphosis, where they change from one form to another. \\n\\nIt\\'s amazing how different animals have different ways of bringing new life into the world! \\n\"\n",
              " }\n",
              " role: \"model\"]"
            ]
          },
          "metadata": {},
          "execution_count": 28
        }
      ]
    },
    {
      "cell_type": "code",
      "source": [
        "!curl -o image.png https://www.google.com/imgres?q=marvel&imgurl=https%3A%2F%2Fupload.wikimedia.org%2Fwikipedia%2Fcommons%2Fb%2Fb9%2FMarvel_Logo.svg&imgrefurl=https%3A%2F%2Fen.wikipedia.org%2Fwiki%2FMarvel_Television&docid=1orctAbJIg0v-M&tbnid=ydgxup9IP35ZVM&vet=12ahUKEwiLjcDN5dOIAxVnT2cHHUknDa8QM3oECBYQAA..i&w=1000&h=402&hcb=2&ved=2ahUKEwiLjcDN5dOIAxVnT2cHHUknDa8QM3oECBYQAA"
      ],
      "metadata": {
        "colab": {
          "base_uri": "https://localhost:8080/"
        },
        "id": "c5T4j9JSD4vV",
        "outputId": "6814a9fa-b625-442c-950d-bcc051c330b4"
      },
      "execution_count": null,
      "outputs": [
        {
          "output_type": "stream",
          "name": "stdout",
          "text": [
            "  % Total    % Received % Xferd  Average Speed   Time    Time     Time  Current\n",
            "                                 Dload  Upload   Total   Spent    Left  Speed\n",
            "\r  0     0    0     0    0     0      0      0 --:--:-- --:--:-- --:--:--     0\r100   225  100   225    0     0   2771      0 --:--:-- --:--:-- --:--:--  2777\n"
          ]
        }
      ]
    },
    {
      "cell_type": "code",
      "source": [
        "import PIL.Image\n",
        "url_image = PIL.Image.open(\"/content/marvel3.png\")"
      ],
      "metadata": {
        "id": "amown7WrD_Tu"
      },
      "execution_count": null,
      "outputs": []
    },
    {
      "cell_type": "code",
      "source": [
        "model.generate_content(url_image)"
      ],
      "metadata": {
        "colab": {
          "base_uri": "https://localhost:8080/",
          "height": 798
        },
        "id": "J7brrEhRECGO",
        "outputId": "366b2757-0f37-483a-fcb7-014cdcce337d"
      },
      "execution_count": null,
      "outputs": [
        {
          "output_type": "execute_result",
          "data": {
            "text/plain": [
              "response:\n",
              "GenerateContentResponse(\n",
              "    done=True,\n",
              "    iterator=None,\n",
              "    result=protos.GenerateContentResponse({\n",
              "      \"candidates\": [\n",
              "        {\n",
              "          \"content\": {\n",
              "            \"parts\": [\n",
              "              {\n",
              "                \"text\": \"The image is the Marvel logo. It is a white word \\\"MARVEL\\\" on a red background. The logo is iconic and instantly recognizable. It is associated with superhero comics, movies, and other entertainment. It is also a popular brand name for merchandise.\"\n",
              "              }\n",
              "            ],\n",
              "            \"role\": \"model\"\n",
              "          },\n",
              "          \"finish_reason\": \"STOP\",\n",
              "          \"index\": 0,\n",
              "          \"safety_ratings\": [\n",
              "            {\n",
              "              \"category\": \"HARM_CATEGORY_SEXUALLY_EXPLICIT\",\n",
              "              \"probability\": \"NEGLIGIBLE\"\n",
              "            },\n",
              "            {\n",
              "              \"category\": \"HARM_CATEGORY_HATE_SPEECH\",\n",
              "              \"probability\": \"NEGLIGIBLE\"\n",
              "            },\n",
              "            {\n",
              "              \"category\": \"HARM_CATEGORY_HARASSMENT\",\n",
              "              \"probability\": \"NEGLIGIBLE\"\n",
              "            },\n",
              "            {\n",
              "              \"category\": \"HARM_CATEGORY_DANGEROUS_CONTENT\",\n",
              "              \"probability\": \"NEGLIGIBLE\"\n",
              "            }\n",
              "          ]\n",
              "        }\n",
              "      ],\n",
              "      \"usage_metadata\": {\n",
              "        \"prompt_token_count\": 259,\n",
              "        \"candidates_token_count\": 52,\n",
              "        \"total_token_count\": 311\n",
              "      }\n",
              "    }),\n",
              ")"
            ]
          },
          "metadata": {},
          "execution_count": 54
        }
      ]
    },
    {
      "cell_type": "code",
      "source": [
        "response = model.generate_content(\n",
        "    [\n",
        "        \"Tell me history of that logo\" ,url_image,\n",
        "    ],stream = True,\n",
        ")\n",
        "response.resolve()"
      ],
      "metadata": {
        "id": "vUZXHfpvELft"
      },
      "execution_count": null,
      "outputs": []
    },
    {
      "cell_type": "code",
      "source": [
        "response.text"
      ],
      "metadata": {
        "colab": {
          "base_uri": "https://localhost:8080/",
          "height": 105
        },
        "id": "Hr0Bxqy6EQ1T",
        "outputId": "c1737e85-f6d6-41c3-e17d-a8041722d63d"
      },
      "execution_count": null,
      "outputs": [
        {
          "output_type": "execute_result",
          "data": {
            "text/plain": [
              "'The Marvel logo, featuring white lettering on a red background, has been used since 1968.  It was designed by  Jack Kirby and was created to make the word \"Marvel\"  pop out more. This version of the logo became known as the \"Marvel Bullseye\" logo. The design features a bold, sans-serif font with slightly rounded corners, giving it a classic and instantly recognizable look. This classic logo has evolved over the years with minor adjustments, but the core elements have remained constant. The logo became a symbol of quality and excitement for fans of comics and has since become one of the most iconic logos in entertainment. \\n'"
            ],
            "application/vnd.google.colaboratory.intrinsic+json": {
              "type": "string"
            }
          },
          "metadata": {},
          "execution_count": 58
        }
      ]
    }
  ],
  "metadata": {
    "colab": {
      "provenance": []
    },
    "kernelspec": {
      "display_name": "Python 3",
      "language": "python",
      "name": "python3"
    },
    "language_info": {
      "name": "python",
      "version": "3.10.9 (v3.10.9:1dd9be6584, Dec  6 2022, 14:37:36) [Clang 13.0.0 (clang-1300.0.29.30)]"
    },
    "vscode": {
      "interpreter": {
        "hash": "aee8b7b246df8f9039afb4144a1f6fd8d2ca17a180786b69acc140d282b71a49"
      }
    }
  },
  "nbformat": 4,
  "nbformat_minor": 0
}